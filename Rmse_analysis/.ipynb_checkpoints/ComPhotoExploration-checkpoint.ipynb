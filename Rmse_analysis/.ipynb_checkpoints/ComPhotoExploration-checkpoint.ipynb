{
 "cells": [
  {
   "cell_type": "code",
   "execution_count": 2,
   "id": "def4bec7-cb4c-44b2-bff7-a31d163a8cda",
   "metadata": {},
   "outputs": [],
   "source": [
    "import numpy as np"
   ]
  },
  {
   "cell_type": "code",
   "execution_count": 5,
   "id": "c255dc33-9dd4-4161-a4cb-274e4e92b292",
   "metadata": {},
   "outputs": [],
   "source": [
    "eval_path = 'frame1_frame5_matches.npz'\n",
    "results = np.load(eval_path)\n",
    "# pose_error = np.maximum(results['error_t'], results['error_R'])\n",
    "# pose_errors.append(pose_error)\n",
    "# precisions.append(results['precision'])\n",
    "# matching_scores.append(results['matching_score'])"
   ]
  },
  {
   "cell_type": "code",
   "execution_count": 9,
   "id": "b8ef5c28-e683-4fe4-b4fd-f484d6bb8831",
   "metadata": {},
   "outputs": [
    {
     "name": "stdout",
     "output_type": "stream",
     "text": [
      "keypoints0\n",
      "keypoints1\n",
      "matches\n",
      "match_confidence\n"
     ]
    }
   ],
   "source": [
    "for k in results.keys():\n",
    "    print(k)"
   ]
  },
  {
   "cell_type": "code",
   "execution_count": 11,
   "id": "5a68d47e-574e-427d-813f-ad0c5aec593b",
   "metadata": {},
   "outputs": [
    {
     "data": {
      "text/plain": [
       "array([[144.,   8.],\n",
       "       [213.,   8.],\n",
       "       [249.,   8.],\n",
       "       ...,\n",
       "       [315., 471.],\n",
       "       [477., 471.],\n",
       "       [555., 471.]], dtype=float32)"
      ]
     },
     "execution_count": 11,
     "metadata": {},
     "output_type": "execute_result"
    }
   ],
   "source": [
    "results['keypoints0']"
   ]
  },
  {
   "cell_type": "code",
   "execution_count": 12,
   "id": "a055ab8c-f400-41c4-a29e-99a7e140c03d",
   "metadata": {},
   "outputs": [
    {
     "data": {
      "text/plain": [
       "(718, 2)"
      ]
     },
     "execution_count": 12,
     "metadata": {},
     "output_type": "execute_result"
    }
   ],
   "source": [
    "results['keypoints0'].shape"
   ]
  },
  {
   "cell_type": "code",
   "execution_count": 13,
   "id": "fa641e93-a65e-4455-90a8-71cf9a4ac851",
   "metadata": {},
   "outputs": [
    {
     "data": {
      "text/plain": [
       "(631.0, 8.0)"
      ]
     },
     "execution_count": 13,
     "metadata": {},
     "output_type": "execute_result"
    }
   ],
   "source": [
    "results['keypoints0'].max(), results['keypoints0'].min()"
   ]
  },
  {
   "cell_type": "code",
   "execution_count": 26,
   "id": "63e0b529-67e4-44fa-91ea-c7abfb1fe31a",
   "metadata": {},
   "outputs": [],
   "source": [
    "kpts0, kpts1 = results['keypoints0'], results['keypoints1']\n",
    "matches, conf = results['matches'], results['match_confidence']\n",
    "valid = matches > -1\n",
    "\n",
    "mkpts0 = kpts0[valid]\n",
    "mkpts1 = kpts1[matches[valid]]\n",
    "confidences = conf[valid]"
   ]
  },
  {
   "cell_type": "code",
   "execution_count": 28,
   "id": "1e1fdda2-4d88-4787-8316-322bb064687f",
   "metadata": {},
   "outputs": [
    {
     "data": {
      "text/plain": [
       "((552, 2), (552, 2))"
      ]
     },
     "execution_count": 28,
     "metadata": {},
     "output_type": "execute_result"
    }
   ],
   "source": [
    "mkpts0.shape, mkpts1.shape"
   ]
  },
  {
   "cell_type": "code",
   "execution_count": 34,
   "id": "fd2ae774-6205-48aa-b92f-1afb3aa7710f",
   "metadata": {},
   "outputs": [
    {
     "data": {
      "text/plain": [
       "(552,)"
      ]
     },
     "execution_count": 34,
     "metadata": {},
     "output_type": "execute_result"
    }
   ],
   "source": [
    "conf[valid].shape"
   ]
  },
  {
   "cell_type": "code",
   "execution_count": 30,
   "id": "00e19dec-2e52-49d6-a220-1796d4fb93b3",
   "metadata": {},
   "outputs": [
    {
     "data": {
      "text/plain": [
       "array([198.,  13.], dtype=float32)"
      ]
     },
     "execution_count": 30,
     "metadata": {},
     "output_type": "execute_result"
    }
   ],
   "source": [
    "mkpts1[matches]"
   ]
  },
  {
   "cell_type": "code",
   "execution_count": 32,
   "id": "02f9c7a2-5958-4bf4-b2c3-87b523d6b9e4",
   "metadata": {},
   "outputs": [
    {
     "data": {
      "text/plain": [
       "array([[144.,   8.],\n",
       "       [213.,   8.],\n",
       "       [249.,   8.],\n",
       "       ...,\n",
       "       [315., 471.],\n",
       "       [477., 471.],\n",
       "       [555., 471.]], dtype=float32)"
      ]
     },
     "execution_count": 32,
     "metadata": {},
     "output_type": "execute_result"
    }
   ],
   "source": [
    "kpts0"
   ]
  },
  {
   "cell_type": "markdown",
   "id": "364da940-aa99-4d3d-99e5-7a5f8715202c",
   "metadata": {},
   "source": [
    "# Stiching CV"
   ]
  },
  {
   "cell_type": "code",
   "execution_count": 26,
   "id": "ec72a3f7-20a7-4049-94e3-44694bb1c237",
   "metadata": {},
   "outputs": [
    {
     "name": "stdout",
     "output_type": "stream",
     "text": [
      "sift M\n",
      "[[ 1.03406127e+00 -6.12844657e-03 -2.38642204e+01]\n",
      " [ 7.64508622e-03  1.01696218e+00 -1.09583297e+00]\n",
      " [ 5.21893600e-05 -2.43513370e-06  1.00000000e+00]]\n",
      "len(good_matches) 550\n",
      "len(img1_pts) 550 (213.0, 8.0, 1)\n",
      "glue M\n",
      "[[ 1.03213338e+00 -5.83736145e-03 -2.32919118e+01]\n",
      " [ 1.09140878e-02  1.01419894e+00 -1.36001154e+00]\n",
      " [ 5.23365907e-05 -7.35915994e-06  1.00000000e+00]]\n",
      "0.0700396354399774\n"
     ]
    }
   ],
   "source": [
    "import os\n",
    "import sys\n",
    "# from turtle import width\n",
    "\n",
    "import cv2\n",
    "import numpy as np\n",
    "# import laplcian_blending\n",
    "# from ransac import ransac\n",
    "# from Homography import Homography\n",
    "\n",
    "\n",
    "# Use the keypoints to stitch the images\n",
    "def get_stitched_image(img1, img2, M):\n",
    "    # Get width and height of input images\n",
    "    w1, h1 = img1.shape[:2]\n",
    "    w2, h2 = img2.shape[:2]\n",
    "\n",
    "    # Get the canvas dimesions\n",
    "    img1_dims = np.float32([[0, 0], [0, w1], [h1, w1], [h1, 0]]).reshape(-1, 1, 2)\n",
    "    img2_dims_temp = np.float32([[0, 0], [0, w2], [h2, w2], [h2, 0]]).reshape(-1, 1, 2)\n",
    "\n",
    "    # Get relative perspective of second image\n",
    "    img2_dims = cv2.perspectiveTransform(img2_dims_temp,\n",
    "                                         M)  # Image 2 is converted to the same coordinate system as image 1 using Homography mat\n",
    "\n",
    "    # Resulting dimensions\n",
    "\n",
    "    result_dims = np.concatenate((img1_dims, img2_dims), axis=0)\n",
    "\n",
    "    # Getting images together\n",
    "    # Calculate dimensions of match points\n",
    "    [x_min, y_min] = np.int32(result_dims.min(axis=0).ravel() - 0.5)  # Scale out by one pixel\n",
    "    [x_max, y_max] = np.int32(result_dims.max(axis=0).ravel() + 0.5)\n",
    "\n",
    "    # Create output array after affine transformation\n",
    "    transform_dist = [-x_min, -y_min]\n",
    "    transform_array = np.array([[1, 0, transform_dist[0]],\n",
    "                                [0, 1, transform_dist[1]],\n",
    "                                [0, 0, 1]])\n",
    "\n",
    "    # Warp images to get the resulting image\n",
    "    result_img = cv2.warpPerspective(img2, transform_array.dot(M),\n",
    "                                     (x_max - x_min, y_max - y_min))\n",
    "    result_img[transform_dist[1]:w1 + transform_dist[1],\n",
    "    transform_dist[0]:h1 + transform_dist[\n",
    "        0]] = img1  # image2 is transformed to result_image through perspective transformation,\n",
    "\n",
    "    return result_img\n",
    "\n",
    "\n",
    "# Find SIFT and return Homography Matrix\n",
    "def get_sift_homography(img1, img2):\n",
    "    # Initialize SIFT\n",
    "    sift = cv2.SIFT_create()\n",
    "\n",
    "    # Extract keypoints and descriptors\n",
    "    kp1, d1 = sift.detectAndCompute(img1, None)\n",
    "    kp2, d2 = sift.detectAndCompute(img2, None)\n",
    "\n",
    "    # Bruteforce matcher on the descriptors\n",
    "    bf = cv2.BFMatcher(cv2.NORM_L2, crossCheck=False)  # k1 and k2 match each other to find the smallest distance pair\n",
    "    knnMatches = bf.knnMatch(d1, d2, k=2)  # one keypoint match two other keypoints\n",
    "\n",
    "    # Make sure that the matches are good\n",
    "    good_ratio = 0.8  # Source: stackoverflow\n",
    "    good_matches = []\n",
    "    for m1, m2 in knnMatches:\n",
    "        # Add to array only if it's a good match\n",
    "        if m1.distance < good_ratio * m2.distance:\n",
    "            good_matches.append(m1)\n",
    "\n",
    "    # Mimnum number of matches\n",
    "    min_matches = 8\n",
    "    if len(good_matches) > min_matches:\n",
    "\n",
    "        # Array to store matching points\n",
    "        img1_pts = []\n",
    "        img2_pts = []\n",
    "\n",
    "        # Add matching points to array\n",
    "        for match in good_matches:\n",
    "            img1_pts.append(kp1[match.queryIdx].pt + (1,))\n",
    "            img2_pts.append(kp2[match.trainIdx].pt + (1,))\n",
    "        img1_pts = np.float32(img1_pts).reshape(-1, 1, 3)\n",
    "        img2_pts = np.float32(img2_pts).reshape(-1, 1, 3)\n",
    "\n",
    "        # Compute homography matrix\n",
    "        M, mask = cv2.findHomography(img1_pts, img2_pts, cv2.RANSAC, 5.0)  # x2 = M*x1  many times choose\n",
    "        # inlier = ransac(img1_pts, img2_pts, 5.0, 1000)  # x2 = M*x1  many times choose\n",
    "        # M = Homography(inlier)\n",
    "        # four points to calculate and use RANSAC to choose the best one\n",
    "        return M, img1, img2\n",
    "    else:\n",
    "        print('Error: Not enough matches')\n",
    "        exit()\n",
    "\n",
    "def get_superglue_homography(img1, img2):\n",
    "    eval_path = 'frame1_frame5_matches.npz'\n",
    "    results = np.load(eval_path)\n",
    "\n",
    "    kpts0, kpts1 = results['keypoints0'], results['keypoints1']\n",
    "    matches, conf = results['matches'], results['match_confidence']\n",
    "    valid = matches > -1\n",
    "\n",
    "    mkpts0 = kpts0[valid]\n",
    "    mkpts1 = kpts1[matches[valid]]\n",
    "    confidences = conf[valid]\n",
    "\n",
    "    # Make sure that the matches are good\n",
    "    good_ratio = 0.5  # Source: Superglue default\n",
    "    good_matches = []\n",
    "    for i, matches in enumerate(zip(mkpts0, mkpts1)):\n",
    "        kp1, kp2 = matches\n",
    "        # Add to array only if it's a good match\n",
    "        if confidences[i] > good_ratio:\n",
    "            good_matches.append((kp1, kp2))\n",
    "    print('len(good_matches)', len(good_matches))\n",
    "    # Mimnum number of matches\n",
    "    min_matches = 8\n",
    "    if len(good_matches) > min_matches:\n",
    "\n",
    "        # Array to store matching points\n",
    "        img1_pts = []\n",
    "        img2_pts = []\n",
    "\n",
    "        # Add matching points to array\n",
    "        for match in good_matches:\n",
    "            img1_pts.append(tuple(match[0]) + (1,))\n",
    "            img2_pts.append(tuple(match[1]) + (1,))\n",
    "        print('len(img1_pts)', len(img1_pts), img1_pts[0])\n",
    "        img1_pts = np.float32(img1_pts).reshape(-1, 1, 3)\n",
    "        img2_pts = np.float32(img2_pts).reshape(-1, 1, 3)\n",
    "\n",
    "        # Compute homography matrix\n",
    "        M, mask = cv2.findHomography(img1_pts, img2_pts, cv2.RANSAC, 5.0)  # x2 = M*x1  many times choose\n",
    "        # inlier = ransac(img1_pts, img2_pts, 5.0, 1000)  # x2 = M*x1  many times choose\n",
    "        # M = Homography(inlier)\n",
    "        # four points to calculate and use RANSAC to choose the best one\n",
    "        return M, img1, img2\n",
    "    else:\n",
    "        print('Error: Not enough matches')\n",
    "        exit()\n",
    "\n",
    "\n",
    "# Equalize Histogram of Color Images improve image contrast\n",
    "def equalize_histogram_color(img):\n",
    "    img_yuv = cv2.cvtColor(img, cv2.COLOR_BGR2YUV)  # Avoid losing information in integer calculations\n",
    "    img_yuv[:, :, 0] = cv2.equalizeHist(img_yuv[:, :, 0])\n",
    "    img = cv2.cvtColor(img_yuv, cv2.COLOR_YUV2BGR)\n",
    "    return img\n",
    "\n",
    "match_count = 0\n",
    "\n",
    "\n",
    "def draw_matched_keypoint(img1, img2, wait=False):\n",
    "    global match_count\n",
    "    img1 = img1.copy()\n",
    "    img2 = img2.copy()\n",
    "\n",
    "    sift = cv2.SIFT_create(100)\n",
    "    kp1, des1 = sift.detectAndCompute(img1, None)\n",
    "    kp2, des2 = sift.detectAndCompute(img2, None)\n",
    "    # draw the keypoints\n",
    "    img1 = cv2.drawKeypoints(image=img1, keypoints=kp1, outImage=img1, color=(255, 0, 255),\n",
    "                             flags=cv2.DRAW_MATCHES_FLAGS_DRAW_RICH_KEYPOINTS)\n",
    "    img2 = cv2.drawKeypoints(image=img2, keypoints=kp2, outImage=img2, color=(255, 0, 255),\n",
    "                             flags=cv2.DRAW_MATCHES_FLAGS_DRAW_RICH_KEYPOINTS)\n",
    "\n",
    "    cv2.waitKey(20)\n",
    "\n",
    "    bf = cv2.BFMatcher()\n",
    "    knnMatches = bf.knnMatch(des1, des2, k=2)\n",
    "    print(type(knnMatches), len(knnMatches), knnMatches[0])\n",
    "    # # Get the first descriptor in img1 with the most matching descriptor in img2 with the smallest distance\n",
    "    dMatch0 = knnMatches[0][0]\n",
    "    # # Get the first descriptor in img1 that matches the next descriptor in img2, followed by the distance\n",
    "    dMatch1 = knnMatches[0][1]\n",
    "    print('knnMatches', dMatch0.distance, dMatch0.queryIdx, dMatch0.trainIdx)\n",
    "    print('knnMatches', dMatch1.distance, dMatch1.queryIdx, dMatch1.trainIdx)\n",
    "    # Make sure that the matches are good\n",
    "    goodMatches = []\n",
    "    minRatio = 0.8\n",
    "    for m, n in knnMatches:\n",
    "        if m.distance / n.distance < minRatio:\n",
    "            goodMatches.append([m])\n",
    "\n",
    "    print(len(goodMatches))\n",
    "    sorted(goodMatches, key=lambda x: x[0].distance)\n",
    "    # # draw verified matches\n",
    "    outImg = None\n",
    "    outImg = cv2.drawMatchesKnn(img1, kp1, img2, kp2, goodMatches, outImg, flags=cv2.DRAW_MATCHES_FLAGS_DEFAULT)\n",
    "    match_count += 1\n",
    "    show_image(outImg, f'Match {match_count}')\n",
    "    save_image(outImg, f'Match {match_count}')\n",
    "    if wait:\n",
    "        cv2.waitKey(0)\n",
    "        cv2.destroyAllWindows()\n",
    "\n",
    "\n",
    "def stitch_images(img1, img2):\n",
    "    # Equalize histogram\n",
    "    img1 = equalize_histogram_color(img1)\n",
    "    img2 = equalize_histogram_color(img2)\n",
    "\n",
    "    # Use SIFT to find keypoints and return homography matrix\n",
    "    Ms, img1_key, img2_key = get_sift_homography(img1, img2)\n",
    "    print('sift M')\n",
    "    print(Ms)\n",
    "    M, img1_key, img2_key = get_superglue_homography(None, None)\n",
    "    print('glue M')\n",
    "    print(M)\n",
    "    print(((Ms - M)**2).sum()**0.5/9)\n",
    "    # Stitch the images together using homography matrix\n",
    "    return get_stitched_image(img2, img1, M), [img1_key, img2_key]\n",
    "\n",
    "\n",
    "def save_image(img, name):\n",
    "    result_image_name = os.path.join('results/', f'result_{name}.jpg')\n",
    "    cv2.imwrite(result_image_name, img)\n",
    "\n",
    "\n",
    "def show_image(img, title, width=1024, inter=cv2.INTER_AREA):\n",
    "    (h, w) = img.shape[:2]\n",
    "    r = width / float(w)\n",
    "    dim = (width, int(h * r))\n",
    "    resized = cv2.resize(img, dim, interpolation=inter)\n",
    "    cv2.imshow(title, resized)\n",
    "\n",
    "\n",
    "# Main function definition\n",
    "def main():\n",
    "    sys.argv = ['None','detect_image','results']\n",
    "    assert len(sys.argv) == 3, 'Error: Please provide the path to the directory of the images AND the output name'\n",
    "    assert os.path.isdir(sys.argv[1]), 'Error: Please provide the valid path to the directory of the images'\n",
    "\n",
    "    first_img = True\n",
    "    input_images = []\n",
    "    for filename in os.listdir(sys.argv[1]):\n",
    "        f = os.path.join(sys.argv[1], filename)\n",
    "        if os.path.isfile(f):\n",
    "            if first_img:\n",
    "                img1 = cv2.imread(f)\n",
    "                input_images.append(img1)\n",
    "                first_img = False\n",
    "                continue\n",
    "\n",
    "            img2 = cv2.imread(f)\n",
    "            input_images.append(img2)\n",
    "\n",
    "            # Show matched keypoint of two images\n",
    "            # draw_matched_keypoint(img1, img2)\n",
    "\n",
    "            # img1, img3, [img1_key, img2_key] = stitch_images(img1, img2)\n",
    "            img1, [img1_key, img2_key] = stitch_images(img1, img2)\n",
    "    save_image(img1, sys.argv[2])\n",
    "    # save_image(img2, sys.argv[2])\n",
    "    # Show the resulting image\n",
    "    # show_image((img3, 'lap Result'))\n",
    "    # show_image(img1, 'Result')\n",
    "    cv2.waitKey()\n",
    "\n",
    "\n",
    "# Call main function\n",
    "if __name__ == '__main__':\n",
    "    main()"
   ]
  },
  {
   "cell_type": "code",
   "execution_count": 22,
   "id": "cfe72955-09ba-4fc5-b25e-76ed5ff62cb1",
   "metadata": {},
   "outputs": [
    {
     "data": {
      "text/plain": [
       "(1, 2, 1)"
      ]
     },
     "execution_count": 22,
     "metadata": {},
     "output_type": "execute_result"
    }
   ],
   "source": [
    "tuple(np.array([1, 2])) +(1,)"
   ]
  },
  {
   "cell_type": "code",
   "execution_count": 21,
   "id": "ea3abd6d-a222-4d3c-a1d2-b9365931d3ff",
   "metadata": {},
   "outputs": [
    {
     "data": {
      "text/plain": [
       "(1, 2, 1)"
      ]
     },
     "execution_count": 21,
     "metadata": {},
     "output_type": "execute_result"
    }
   ],
   "source": [
    "(1,2) +(1,)"
   ]
  },
  {
   "cell_type": "code",
   "execution_count": null,
   "id": "0985d9b9-80c5-427e-adb9-6a18c78c5831",
   "metadata": {},
   "outputs": [],
   "source": []
  }
 ],
 "metadata": {
  "kernelspec": {
   "display_name": "Python 3 (ipykernel)",
   "language": "python",
   "name": "python3"
  },
  "language_info": {
   "codemirror_mode": {
    "name": "ipython",
    "version": 3
   },
   "file_extension": ".py",
   "mimetype": "text/x-python",
   "name": "python",
   "nbconvert_exporter": "python",
   "pygments_lexer": "ipython3",
   "version": "3.9.7"
  }
 },
 "nbformat": 4,
 "nbformat_minor": 5
}
